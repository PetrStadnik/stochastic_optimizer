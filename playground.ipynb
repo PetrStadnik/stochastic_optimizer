{
 "cells": [
  {
   "cell_type": "code",
   "id": "initial_id",
   "metadata": {
    "collapsed": true,
    "ExecuteTime": {
     "end_time": "2025-09-18T08:23:19.451310Z",
     "start_time": "2025-09-18T08:23:18.328439Z"
    }
   },
   "source": [
    "import numpy as np\n",
    "import matplotlib.pyplot as plt\n",
    "from scipy.stats import norm\n"
   ],
   "outputs": [],
   "execution_count": 3
  },
  {
   "metadata": {
    "ExecuteTime": {
     "end_time": "2025-09-18T08:23:20.365276Z",
     "start_time": "2025-09-18T08:23:20.359232Z"
    }
   },
   "cell_type": "code",
   "source": [
    "np.random.seed(0)\n",
    "durations2 = np.random.normal(330, 30, np.random.randint(0,20)).round().astype(int)\n",
    "print(durations2)"
   ],
   "id": "ae4ef098d9366f91",
   "outputs": [
    {
     "name": "stdout",
     "output_type": "stream",
     "text": [
      "[364 339 332 332 287 376 321 326 325 277 327 371]\n"
     ]
    }
   ],
   "execution_count": 4
  },
  {
   "metadata": {
    "ExecuteTime": {
     "end_time": "2025-09-18T08:23:49.850731Z",
     "start_time": "2025-09-18T08:23:49.846606Z"
    }
   },
   "cell_type": "code",
   "source": [
    "\n",
    "# Parameters of the normal distribution\n",
    "mu = 330      # mean\n",
    "sigma = 30   # standard deviation\n",
    "\n",
    "# Quantile (e.g. 0.95 for 95%)\n",
    "p = 0.95\n",
    "\n",
    "# Compute quantile value\n",
    "value = norm.ppf(p, loc=mu, scale=sigma)\n",
    "print(\"95th percentile:\", value)"
   ],
   "id": "4b1b3662f9d1dbc4",
   "outputs": [
    {
     "name": "stdout",
     "output_type": "stream",
     "text": [
      "95th percentile: 379.34560880854417\n"
     ]
    }
   ],
   "execution_count": 7
  },
  {
   "metadata": {},
   "cell_type": "code",
   "outputs": [],
   "execution_count": null,
   "source": "",
   "id": "b8dc1583f2f8febd"
  }
 ],
 "metadata": {
  "kernelspec": {
   "display_name": "Python 3",
   "language": "python",
   "name": "python3"
  },
  "language_info": {
   "codemirror_mode": {
    "name": "ipython",
    "version": 2
   },
   "file_extension": ".py",
   "mimetype": "text/x-python",
   "name": "python",
   "nbconvert_exporter": "python",
   "pygments_lexer": "ipython2",
   "version": "2.7.6"
  }
 },
 "nbformat": 4,
 "nbformat_minor": 5
}
